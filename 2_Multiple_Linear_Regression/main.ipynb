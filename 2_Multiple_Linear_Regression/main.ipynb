{
 "cells": [
  {
   "cell_type": "code",
   "execution_count": 61,
   "metadata": {},
   "outputs": [],
   "source": [
    "import pandas as pd\n",
    "import numpy as np\n"
   ]
  },
  {
   "cell_type": "code",
   "execution_count": 67,
   "metadata": {},
   "outputs": [],
   "source": [
    "df= pd.read_csv('50_Startups.csv')"
   ]
  },
  {
   "cell_type": "code",
   "execution_count": 68,
   "metadata": {},
   "outputs": [
    {
     "data": {
      "text/html": [
       "<div>\n",
       "<style scoped>\n",
       "    .dataframe tbody tr th:only-of-type {\n",
       "        vertical-align: middle;\n",
       "    }\n",
       "\n",
       "    .dataframe tbody tr th {\n",
       "        vertical-align: top;\n",
       "    }\n",
       "\n",
       "    .dataframe thead th {\n",
       "        text-align: right;\n",
       "    }\n",
       "</style>\n",
       "<table border=\"1\" class=\"dataframe\">\n",
       "  <thead>\n",
       "    <tr style=\"text-align: right;\">\n",
       "      <th></th>\n",
       "      <th>R&amp;D Spend</th>\n",
       "      <th>Administration</th>\n",
       "      <th>Marketing Spend</th>\n",
       "      <th>State</th>\n",
       "      <th>Profit</th>\n",
       "    </tr>\n",
       "  </thead>\n",
       "  <tbody>\n",
       "    <tr>\n",
       "      <th>0</th>\n",
       "      <td>165349.20</td>\n",
       "      <td>136897.80</td>\n",
       "      <td>471784.10</td>\n",
       "      <td>New York</td>\n",
       "      <td>192261.83</td>\n",
       "    </tr>\n",
       "    <tr>\n",
       "      <th>1</th>\n",
       "      <td>162597.70</td>\n",
       "      <td>151377.59</td>\n",
       "      <td>443898.53</td>\n",
       "      <td>California</td>\n",
       "      <td>191792.06</td>\n",
       "    </tr>\n",
       "    <tr>\n",
       "      <th>2</th>\n",
       "      <td>153441.51</td>\n",
       "      <td>101145.55</td>\n",
       "      <td>407934.54</td>\n",
       "      <td>Florida</td>\n",
       "      <td>191050.39</td>\n",
       "    </tr>\n",
       "    <tr>\n",
       "      <th>3</th>\n",
       "      <td>144372.41</td>\n",
       "      <td>118671.85</td>\n",
       "      <td>383199.62</td>\n",
       "      <td>New York</td>\n",
       "      <td>182901.99</td>\n",
       "    </tr>\n",
       "    <tr>\n",
       "      <th>4</th>\n",
       "      <td>142107.34</td>\n",
       "      <td>91391.77</td>\n",
       "      <td>366168.42</td>\n",
       "      <td>California</td>\n",
       "      <td>166187.94</td>\n",
       "    </tr>\n",
       "  </tbody>\n",
       "</table>\n",
       "</div>"
      ],
      "text/plain": [
       "   R&D Spend  Administration  Marketing Spend       State     Profit\n",
       "0  165349.20       136897.80        471784.10    New York  192261.83\n",
       "1  162597.70       151377.59        443898.53  California  191792.06\n",
       "2  153441.51       101145.55        407934.54     Florida  191050.39\n",
       "3  144372.41       118671.85        383199.62    New York  182901.99\n",
       "4  142107.34        91391.77        366168.42  California  166187.94"
      ]
     },
     "execution_count": 68,
     "metadata": {},
     "output_type": "execute_result"
    }
   ],
   "source": [
    "df.head()"
   ]
  },
  {
   "cell_type": "code",
   "execution_count": 69,
   "metadata": {},
   "outputs": [
    {
     "data": {
      "text/plain": [
       "array([[165349.2, 136897.8, 471784.1, 'New York'],\n",
       "       [162597.7, 151377.59, 443898.53, 'California'],\n",
       "       [153441.51, 101145.55, 407934.54, 'Florida'],\n",
       "       [144372.41, 118671.85, 383199.62, 'New York'],\n",
       "       [142107.34, 91391.77, 366168.42, 'California'],\n",
       "       [131876.9, 99814.71, 362861.36, 'New York'],\n",
       "       [134615.46, 147198.87, 127716.82, 'California'],\n",
       "       [130298.13, 145530.06, 323876.68, 'New York'],\n",
       "       [120542.52, 148718.95, 311613.29, 'New York'],\n",
       "       [123334.88, 108679.17, 304981.62, 'California'],\n",
       "       [101913.08, 110594.11, 229160.95, 'California'],\n",
       "       [100671.96, 91790.61, 249744.55, 'Florida'],\n",
       "       [93863.75, 127320.38, 249839.44, 'California'],\n",
       "       [91992.39, 135495.07, 252664.93, 'California'],\n",
       "       [119943.24, 156547.42, 256512.92, 'Florida'],\n",
       "       [114523.61, 122616.84, 261776.23, 'New York'],\n",
       "       [78013.11, 121597.55, 264346.06, 'California'],\n",
       "       [94657.16, 145077.58, 282574.31, 'New York'],\n",
       "       [91749.16, 114175.79, 294919.57, 'New York'],\n",
       "       [86419.7, 153514.11, 0.0, 'Florida'],\n",
       "       [76253.86, 113867.3, 298664.47, 'California'],\n",
       "       [78389.47, 153773.43, 299737.29, 'New York'],\n",
       "       [73994.56, 122782.75, 303319.26, 'California'],\n",
       "       [67532.53, 105751.03, 304768.73, 'California'],\n",
       "       [77044.01, 99281.34, 140574.81, 'New York'],\n",
       "       [64664.71, 139553.16, 137962.62, 'California'],\n",
       "       [75328.87, 144135.98, 134050.07, 'New York'],\n",
       "       [72107.6, 127864.55, 353183.81, 'New York'],\n",
       "       [66051.52, 182645.56, 118148.2, 'Florida'],\n",
       "       [65605.48, 153032.06, 107138.38, 'New York'],\n",
       "       [61994.48, 115641.28, 91131.24, 'New York'],\n",
       "       [61136.38, 152701.92, 88218.23, 'New York'],\n",
       "       [63408.86, 129219.61, 46085.25, 'California'],\n",
       "       [55493.95, 103057.49, 214634.81, 'New York'],\n",
       "       [46426.07, 157693.92, 210797.67, 'Florida'],\n",
       "       [46014.02, 85047.44, 205517.64, 'New York'],\n",
       "       [28663.76, 127056.21, 201126.82, 'New York'],\n",
       "       [44069.95, 51283.14, 197029.42, 'California'],\n",
       "       [20229.59, 65947.93, 185265.1, 'New York'],\n",
       "       [38558.51, 82982.09, 174999.3, 'California'],\n",
       "       [28754.33, 118546.05, 172795.67, 'Florida'],\n",
       "       [27892.92, 84710.77, 164470.71, 'California'],\n",
       "       [23640.93, 96189.63, 148001.11, 'California'],\n",
       "       [15505.73, 127382.3, 35534.17, 'New York'],\n",
       "       [22177.74, 154806.14, 28334.72, 'California'],\n",
       "       [1000.23, 124153.04, 1903.93, 'New York'],\n",
       "       [1315.46, 115816.21, 297114.46, 'Florida'],\n",
       "       [0.0, 135426.92, 0.0, 'California'],\n",
       "       [542.05, 51743.15, 0.0, 'New York'],\n",
       "       [0.0, 116983.8, 45173.06, 'California']], dtype=object)"
      ]
     },
     "execution_count": 69,
     "metadata": {},
     "output_type": "execute_result"
    }
   ],
   "source": [
    "# extrating x dataset from the dataframe\n",
    "x=df.iloc[0:,0:4].values\n",
    "x"
   ]
  },
  {
   "cell_type": "code",
   "execution_count": 70,
   "metadata": {},
   "outputs": [],
   "source": [
    "# exracting y dataset\n",
    "y= df.iloc[0:,4:].values"
   ]
  },
  {
   "cell_type": "code",
   "execution_count": null,
   "metadata": {},
   "outputs": [],
   "source": [
    "#  since x contain categorical data so we will convert this categorical data into numerical data\n",
    "# following methods are employed to do this task\n",
    "# 1.Label Encoding\n",
    "# 2.One-Hot Encoding\n",
    "\n",
    "# 1.Label -Encoding: involves assigning a unique integer to each\n",
    "#  category in a categorical feature. For example, if you have a \n",
    "# feature \"Color\" with categories \"Red,\" \"Blue,\" and \"Green,\"\n",
    "#  label encoding would transform these categories into \n",
    "# numerical values such as:\n",
    "# \"Red\" -> 0\n",
    "# \"Blue\" -> 1\n",
    "# \"Green\" -> 2\n",
    "\n",
    "# 2.One-Hot Encoding : One-hot encoding addresses the issue of\n",
    "#  implied ordinality by creating a new binary column (0 or 1) \n",
    "# for each category. Each row in the dataset will have a 1 in the \n",
    "# column corresponding to its category and 0s in all other \n",
    "# columns. For the same \"Color\" feature, one-hot encoding\n",
    "#  would create three new columns:\n",
    "\n",
    "# Color_Red: [1, 0, 0] (for Red)\n",
    "# Color_Blue: [0, 1, 0] (for Blue)\n",
    "# Color_Green: [0, 0, 1] (for Green)"
   ]
  },
  {
   "cell_type": "code",
   "execution_count": null,
   "metadata": {},
   "outputs": [],
   "source": [
    "# Label.fit_transform(x[:, 3:]).shape\n",
    "# x[:,2:].shape[1]"
   ]
  },
  {
   "cell_type": "code",
   "execution_count": 71,
   "metadata": {},
   "outputs": [
    {
     "data": {
      "text/plain": [
       "array([[165349.2, 136897.8, 471784.1, 2],\n",
       "       [162597.7, 151377.59, 443898.53, 0],\n",
       "       [153441.51, 101145.55, 407934.54, 1],\n",
       "       [144372.41, 118671.85, 383199.62, 2],\n",
       "       [142107.34, 91391.77, 366168.42, 0],\n",
       "       [131876.9, 99814.71, 362861.36, 2],\n",
       "       [134615.46, 147198.87, 127716.82, 0],\n",
       "       [130298.13, 145530.06, 323876.68, 2],\n",
       "       [120542.52, 148718.95, 311613.29, 2],\n",
       "       [123334.88, 108679.17, 304981.62, 0],\n",
       "       [101913.08, 110594.11, 229160.95, 0],\n",
       "       [100671.96, 91790.61, 249744.55, 1],\n",
       "       [93863.75, 127320.38, 249839.44, 0],\n",
       "       [91992.39, 135495.07, 252664.93, 0],\n",
       "       [119943.24, 156547.42, 256512.92, 1],\n",
       "       [114523.61, 122616.84, 261776.23, 2],\n",
       "       [78013.11, 121597.55, 264346.06, 0],\n",
       "       [94657.16, 145077.58, 282574.31, 2],\n",
       "       [91749.16, 114175.79, 294919.57, 2],\n",
       "       [86419.7, 153514.11, 0.0, 1],\n",
       "       [76253.86, 113867.3, 298664.47, 0],\n",
       "       [78389.47, 153773.43, 299737.29, 2],\n",
       "       [73994.56, 122782.75, 303319.26, 0],\n",
       "       [67532.53, 105751.03, 304768.73, 0],\n",
       "       [77044.01, 99281.34, 140574.81, 2],\n",
       "       [64664.71, 139553.16, 137962.62, 0],\n",
       "       [75328.87, 144135.98, 134050.07, 2],\n",
       "       [72107.6, 127864.55, 353183.81, 2],\n",
       "       [66051.52, 182645.56, 118148.2, 1],\n",
       "       [65605.48, 153032.06, 107138.38, 2],\n",
       "       [61994.48, 115641.28, 91131.24, 2],\n",
       "       [61136.38, 152701.92, 88218.23, 2],\n",
       "       [63408.86, 129219.61, 46085.25, 0],\n",
       "       [55493.95, 103057.49, 214634.81, 2],\n",
       "       [46426.07, 157693.92, 210797.67, 1],\n",
       "       [46014.02, 85047.44, 205517.64, 2],\n",
       "       [28663.76, 127056.21, 201126.82, 2],\n",
       "       [44069.95, 51283.14, 197029.42, 0],\n",
       "       [20229.59, 65947.93, 185265.1, 2],\n",
       "       [38558.51, 82982.09, 174999.3, 0],\n",
       "       [28754.33, 118546.05, 172795.67, 1],\n",
       "       [27892.92, 84710.77, 164470.71, 0],\n",
       "       [23640.93, 96189.63, 148001.11, 0],\n",
       "       [15505.73, 127382.3, 35534.17, 2],\n",
       "       [22177.74, 154806.14, 28334.72, 0],\n",
       "       [1000.23, 124153.04, 1903.93, 2],\n",
       "       [1315.46, 115816.21, 297114.46, 1],\n",
       "       [0.0, 135426.92, 0.0, 0],\n",
       "       [542.05, 51743.15, 0.0, 2],\n",
       "       [0.0, 116983.8, 45173.06, 0]], dtype=object)"
      ]
     },
     "execution_count": 71,
     "metadata": {},
     "output_type": "execute_result"
    }
   ],
   "source": [
    "from sklearn.preprocessing import LabelEncoder\n",
    "Label = LabelEncoder()\n",
    "x[:, 3:]= Label.fit_transform(x[:, 3:].ravel()).reshape(50,1)\n",
    "x\n"
   ]
  },
  {
   "cell_type": "code",
   "execution_count": 72,
   "metadata": {},
   "outputs": [
    {
     "data": {
      "text/plain": [
       "array([[165349.2, 136897.8, 471784.1, 2],\n",
       "       [162597.7, 151377.59, 443898.53, 0],\n",
       "       [153441.51, 101145.55, 407934.54, 1],\n",
       "       [144372.41, 118671.85, 383199.62, 2],\n",
       "       [142107.34, 91391.77, 366168.42, 0],\n",
       "       [131876.9, 99814.71, 362861.36, 2],\n",
       "       [134615.46, 147198.87, 127716.82, 0],\n",
       "       [130298.13, 145530.06, 323876.68, 2],\n",
       "       [120542.52, 148718.95, 311613.29, 2],\n",
       "       [123334.88, 108679.17, 304981.62, 0],\n",
       "       [101913.08, 110594.11, 229160.95, 0],\n",
       "       [100671.96, 91790.61, 249744.55, 1],\n",
       "       [93863.75, 127320.38, 249839.44, 0],\n",
       "       [91992.39, 135495.07, 252664.93, 0],\n",
       "       [119943.24, 156547.42, 256512.92, 1],\n",
       "       [114523.61, 122616.84, 261776.23, 2],\n",
       "       [78013.11, 121597.55, 264346.06, 0],\n",
       "       [94657.16, 145077.58, 282574.31, 2],\n",
       "       [91749.16, 114175.79, 294919.57, 2],\n",
       "       [86419.7, 153514.11, 0.0, 1],\n",
       "       [76253.86, 113867.3, 298664.47, 0],\n",
       "       [78389.47, 153773.43, 299737.29, 2],\n",
       "       [73994.56, 122782.75, 303319.26, 0],\n",
       "       [67532.53, 105751.03, 304768.73, 0],\n",
       "       [77044.01, 99281.34, 140574.81, 2],\n",
       "       [64664.71, 139553.16, 137962.62, 0],\n",
       "       [75328.87, 144135.98, 134050.07, 2],\n",
       "       [72107.6, 127864.55, 353183.81, 2],\n",
       "       [66051.52, 182645.56, 118148.2, 1],\n",
       "       [65605.48, 153032.06, 107138.38, 2],\n",
       "       [61994.48, 115641.28, 91131.24, 2],\n",
       "       [61136.38, 152701.92, 88218.23, 2],\n",
       "       [63408.86, 129219.61, 46085.25, 0],\n",
       "       [55493.95, 103057.49, 214634.81, 2],\n",
       "       [46426.07, 157693.92, 210797.67, 1],\n",
       "       [46014.02, 85047.44, 205517.64, 2],\n",
       "       [28663.76, 127056.21, 201126.82, 2],\n",
       "       [44069.95, 51283.14, 197029.42, 0],\n",
       "       [20229.59, 65947.93, 185265.1, 2],\n",
       "       [38558.51, 82982.09, 174999.3, 0],\n",
       "       [28754.33, 118546.05, 172795.67, 1],\n",
       "       [27892.92, 84710.77, 164470.71, 0],\n",
       "       [23640.93, 96189.63, 148001.11, 0],\n",
       "       [15505.73, 127382.3, 35534.17, 2],\n",
       "       [22177.74, 154806.14, 28334.72, 0],\n",
       "       [1000.23, 124153.04, 1903.93, 2],\n",
       "       [1315.46, 115816.21, 297114.46, 1],\n",
       "       [0.0, 135426.92, 0.0, 0],\n",
       "       [542.05, 51743.15, 0.0, 2],\n",
       "       [0.0, 116983.8, 45173.06, 0]], dtype=object)"
      ]
     },
     "execution_count": 72,
     "metadata": {},
     "output_type": "execute_result"
    }
   ],
   "source": [
    "x"
   ]
  },
  {
   "cell_type": "code",
   "execution_count": 73,
   "metadata": {},
   "outputs": [
    {
     "data": {
      "text/plain": [
       "(50, 6)"
      ]
     },
     "execution_count": 73,
     "metadata": {},
     "output_type": "execute_result"
    }
   ],
   "source": [
    "from sklearn.compose import ColumnTransformer\n",
    "from sklearn.preprocessing import OneHotEncoder\n",
    "ct= ColumnTransformer([('encoder',OneHotEncoder(),[3])],remainder='passthrough')\n",
    "ct.fit_transform(x)\n",
    "# np.array(ct.fit_transform(x))\n",
    "x= np.array(ct.fit_transform(x))\n",
    "x.shape"
   ]
  },
  {
   "cell_type": "code",
   "execution_count": 77,
   "metadata": {},
   "outputs": [],
   "source": [
    "from sklearn.model_selection import  train_test_split\n",
    "x_train,x_test,y_train,_y_test=train_test_split(x,y,test_size=0.2,random_state=42)"
   ]
  },
  {
   "cell_type": "code",
   "execution_count": 79,
   "metadata": {},
   "outputs": [
    {
     "name": "stdout",
     "output_type": "stream",
     "text": [
      "X Shape- (50, 6)\n",
      "Y Shape- (50, 1)\n",
      "X_train Shape- (40, 6)\n",
      "Y_train Shape- (40, 1)\n",
      "X_test Shape- (10, 6)\n"
     ]
    },
    {
     "ename": "NameError",
     "evalue": "name 'y_test' is not defined",
     "output_type": "error",
     "traceback": [
      "\u001b[0;31m---------------------------------------------------------------------------\u001b[0m",
      "\u001b[0;31mNameError\u001b[0m                                 Traceback (most recent call last)",
      "Cell \u001b[0;32mIn[79], line 6\u001b[0m\n\u001b[1;32m      4\u001b[0m \u001b[38;5;28mprint\u001b[39m (\u001b[38;5;124m'\u001b[39m\u001b[38;5;124mY_train Shape-\u001b[39m\u001b[38;5;124m'\u001b[39m,y_train\u001b[38;5;241m.\u001b[39mshape)\n\u001b[1;32m      5\u001b[0m \u001b[38;5;28mprint\u001b[39m (\u001b[38;5;124m'\u001b[39m\u001b[38;5;124mX_test Shape-\u001b[39m\u001b[38;5;124m'\u001b[39m,x_test\u001b[38;5;241m.\u001b[39mshape)\n\u001b[0;32m----> 6\u001b[0m \u001b[38;5;28mprint\u001b[39m (\u001b[38;5;124m'\u001b[39m\u001b[38;5;124mY_test Shape-\u001b[39m\u001b[38;5;124m'\u001b[39m,\u001b[43my_test\u001b[49m\u001b[38;5;241m.\u001b[39mshape)\n",
      "\u001b[0;31mNameError\u001b[0m: name 'y_test' is not defined"
     ]
    }
   ],
   "source": [
    "print ('X Shape-',x.shape)\n",
    "print ('Y Shape-', y.shape)\n",
    "print ('X_train Shape-',x_train.shape)\n",
    "print ('Y_train Shape-',y_train.shape)\n",
    "print ('X_test Shape-',x_test.shape)\n",
    "print ('Y_test Shape-',y_test.shape)\n"
   ]
  },
  {
   "cell_type": "code",
   "execution_count": null,
   "metadata": {},
   "outputs": [],
   "source": []
  },
  {
   "cell_type": "code",
   "execution_count": null,
   "metadata": {},
   "outputs": [],
   "source": []
  },
  {
   "cell_type": "code",
   "execution_count": null,
   "metadata": {},
   "outputs": [],
   "source": []
  },
  {
   "cell_type": "code",
   "execution_count": null,
   "metadata": {},
   "outputs": [],
   "source": []
  },
  {
   "cell_type": "code",
   "execution_count": null,
   "metadata": {},
   "outputs": [],
   "source": []
  },
  {
   "cell_type": "code",
   "execution_count": null,
   "metadata": {},
   "outputs": [],
   "source": []
  },
  {
   "cell_type": "code",
   "execution_count": null,
   "metadata": {},
   "outputs": [],
   "source": []
  },
  {
   "cell_type": "code",
   "execution_count": null,
   "metadata": {},
   "outputs": [],
   "source": []
  },
  {
   "cell_type": "code",
   "execution_count": null,
   "metadata": {},
   "outputs": [],
   "source": []
  },
  {
   "cell_type": "code",
   "execution_count": null,
   "metadata": {},
   "outputs": [],
   "source": []
  }
 ],
 "metadata": {
  "kernelspec": {
   "display_name": "Python 3",
   "language": "python",
   "name": "python3"
  },
  "language_info": {
   "codemirror_mode": {
    "name": "ipython",
    "version": 3
   },
   "file_extension": ".py",
   "mimetype": "text/x-python",
   "name": "python",
   "nbconvert_exporter": "python",
   "pygments_lexer": "ipython3",
   "version": "undefined.undefined.undefined"
  }
 },
 "nbformat": 4,
 "nbformat_minor": 2
}
